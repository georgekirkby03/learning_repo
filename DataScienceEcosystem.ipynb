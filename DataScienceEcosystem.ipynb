{
 "cells": [
  {
   "cell_type": "markdown",
   "id": "510c4748-b0a4-437b-9f5c-e9537bddab32",
   "metadata": {},
   "source": [
    "# Data Science Tools and Ecosysytem"
   ]
  },
  {
   "cell_type": "markdown",
   "id": "b4032a4c-47f3-4b81-9c05-0197f74faa60",
   "metadata": {},
   "source": [
    "In this notebook, Data Science Tools and Ecosystem are summarized."
   ]
  },
  {
   "cell_type": "markdown",
   "id": "37953bba-0431-4fad-87ab-e4345da57c69",
   "metadata": {},
   "source": [
    "**Objectives:**\n",
    "- List commonly used languages for data science\n",
    "- List commonly used libraries in data science\n",
    "- Indictae three development environment open source tools used in data science\n"
   ]
  },
  {
   "cell_type": "markdown",
   "id": "8402abdc-4b77-459a-9ac9-3726a433caf8",
   "metadata": {},
   "source": [
    "Some of the popular languages that Data Scientists use are: \n",
    "1. Python\n",
    "2. SQL\n",
    "3. Java"
   ]
  },
  {
   "cell_type": "markdown",
   "id": "0eb89369-c47e-41c0-b136-35985d42e15c",
   "metadata": {},
   "source": [
    "Some of the commonly used Libraries used by Data Scientists include: \n",
    "1. Pandas\n",
    "2. Numpy\n",
    "3. Matplotlib"
   ]
  },
  {
   "cell_type": "markdown",
   "id": "602eeb26-8a90-4cb6-95dd-399df7412e85",
   "metadata": {},
   "source": [
    "| Data Science Tools | \n",
    "| ------------------ |\n",
    "| Jupyter Notebook | \n",
    "| RStudio |\n",
    "| Spyder |\n"
   ]
  },
  {
   "cell_type": "markdown",
   "id": "c4f0cab6-d429-44cf-9bd6-f2b60ac27da3",
   "metadata": {},
   "source": [
    "Below are a few example of evaluating arithmetic expressions in Python"
   ]
  },
  {
   "cell_type": "code",
   "execution_count": 13,
   "id": "ea200fd2-9104-46fb-9e2a-4bd7a40adbc7",
   "metadata": {},
   "outputs": [
    {
     "data": {
      "text/plain": [
       "17"
      ]
     },
     "execution_count": 13,
     "metadata": {},
     "output_type": "execute_result"
    }
   ],
   "source": [
    "# This is a simple arithmetic expression to multiply then add integers\n",
    "(3*4)+5"
   ]
  },
  {
   "cell_type": "code",
   "execution_count": 14,
   "id": "8af737cb-fe25-447e-acc2-a4b9c745445d",
   "metadata": {},
   "outputs": [
    {
     "data": {
      "text/plain": [
       "3.3333333333333335"
      ]
     },
     "execution_count": 14,
     "metadata": {},
     "output_type": "execute_result"
    }
   ],
   "source": [
    "# This will convert 200 minutes to hours by dividing by 60\n",
    "200 / 60"
   ]
  },
  {
   "cell_type": "markdown",
   "id": "9cd5a58b-f4bc-474b-8b0d-e0509bf8e7e1",
   "metadata": {},
   "source": [
    "## Author"
   ]
  },
  {
   "cell_type": "markdown",
   "id": "3a9abdad-8ee9-4e8b-a406-cea5faf644b6",
   "metadata": {},
   "source": [
    "George K"
   ]
  },
  {
   "cell_type": "code",
   "execution_count": null,
   "id": "eac8291a-e80d-4b2e-a5cf-5370d2dc8abc",
   "metadata": {},
   "outputs": [],
   "source": []
  }
 ],
 "metadata": {
  "kernelspec": {
   "display_name": "Python 3 (ipykernel)",
   "language": "python",
   "name": "python3"
  },
  "language_info": {
   "codemirror_mode": {
    "name": "ipython",
    "version": 3
   },
   "file_extension": ".py",
   "mimetype": "text/x-python",
   "name": "python",
   "nbconvert_exporter": "python",
   "pygments_lexer": "ipython3",
   "version": "3.12.11"
  }
 },
 "nbformat": 4,
 "nbformat_minor": 5
}
